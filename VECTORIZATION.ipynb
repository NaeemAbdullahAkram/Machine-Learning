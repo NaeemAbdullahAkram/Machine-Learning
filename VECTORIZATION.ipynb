{
  "nbformat": 4,
  "nbformat_minor": 0,
  "metadata": {
    "colab": {
      "provenance": [],
      "toc_visible": true
    },
    "kernelspec": {
      "name": "python3",
      "display_name": "Python 3"
    },
    "language_info": {
      "name": "python"
    }
  },
  "cells": [
    {
      "cell_type": "code",
      "execution_count": 1,
      "metadata": {
        "id": "R_sm0Red3Rc5"
      },
      "outputs": [],
      "source": [
        "#VECTORIZATION\n",
        "import numpy as np\n",
        "import time as time"
      ]
    },
    {
      "cell_type": "code",
      "source": [
        "a = np.random.rand(1000000)\n",
        "b = np.random.rand(1000000)"
      ],
      "metadata": {
        "id": "f1Z1tL5b3Y-j"
      },
      "execution_count": 3,
      "outputs": []
    },
    {
      "cell_type": "code",
      "source": [
        "tic = time.time()\n",
        "c = np.dot(a,b)\n",
        "toc = time.time()\n",
        "print(\"vectorized version time : \"+ str(1000* (toc-tic))+ \"ms\")"
      ],
      "metadata": {
        "colab": {
          "base_uri": "https://localhost:8080/"
        },
        "id": "sc4dz_6P3erT",
        "outputId": "6adbb7c7-e608-403f-aa4c-38a054d4e435"
      },
      "execution_count": 4,
      "outputs": [
        {
          "output_type": "stream",
          "name": "stdout",
          "text": [
            "vectorized version time : 2.3810863494873047ms\n"
          ]
        }
      ]
    },
    {
      "cell_type": "code",
      "source": [
        "c = 0\n",
        "tic = time.time()\n",
        "for i in range(1000000):\n",
        "    c+= a[i]*b[i]"
      ],
      "metadata": {
        "id": "x0evC1K03iay"
      },
      "execution_count": 5,
      "outputs": []
    },
    {
      "cell_type": "code",
      "source": [
        "toc = time.time()\n",
        "print(\"non-vectorized version time: \"+ str(1000* (toc-tic))+ \"ms\")"
      ],
      "metadata": {
        "colab": {
          "base_uri": "https://localhost:8080/"
        },
        "id": "8QOHDoTb3lJp",
        "outputId": "ffcafec2-78ac-4dee-f85b-e14e1598222f"
      },
      "execution_count": 6,
      "outputs": [
        {
          "output_type": "stream",
          "name": "stdout",
          "text": [
            "non-vectorized version time: 12468.982934951782ms\n"
          ]
        }
      ]
    }
  ]
}